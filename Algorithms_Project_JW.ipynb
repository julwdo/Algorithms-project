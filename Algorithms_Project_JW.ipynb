{
  "nbformat": 4,
  "nbformat_minor": 0,
  "metadata": {
    "colab": {
      "provenance": [],
      "include_colab_link": true
    },
    "kernelspec": {
      "name": "python3",
      "display_name": "Python 3"
    },
    "language_info": {
      "name": "python"
    }
  },
  "cells": [
    {
      "cell_type": "markdown",
      "metadata": {
        "id": "view-in-github",
        "colab_type": "text"
      },
      "source": [
        "<a href=\"https://colab.research.google.com/github/julwdo/Algorithms-project/blob/main/Algorithms_Project_JW.ipynb\" target=\"_parent\"><img src=\"https://colab.research.google.com/assets/colab-badge.svg\" alt=\"Open In Colab\"/></a>"
      ]
    },
    {
      "cell_type": "code",
      "source": [
        "# Set the fraction of data to use (e.g., 0.5 for 50%)\n",
        "DATA_FRACTION = 1.0\n",
        "\n",
        "assert 0 < DATA_FRACTION <= 1, 'ERROR: DATA_FRACTION must be between 0 and 1 (exclusive).'"
      ],
      "metadata": {
        "id": "Jaiuxf3f4Q6V"
      },
      "execution_count": null,
      "outputs": []
    },
    {
      "cell_type": "code",
      "source": [
        "# Download all necessary files and libraries\n",
        "!apt-get install openjdk-17-jdk-headless -qq > /dev/null # OpenJDK 17\n",
        "!wget --show-progress https://dlcdn.apache.org/spark/spark-3.5.5/spark-3.5.5-bin-hadoop3.tgz # Apache Spark 3.5.5 with Hadoop 3 support\n",
        "!tar xf spark-3.5.5-bin-hadoop3.tgz\n",
        "!pip install findspark\n",
        "!pip install pyspark\n",
        "!pip install kaggle"
      ],
      "metadata": {
        "colab": {
          "base_uri": "https://localhost:8080/"
        },
        "id": "k3NKXyPlBnuG",
        "outputId": "4eb77513-07cb-49a1-fe52-cdcbcd1c4259"
      },
      "execution_count": null,
      "outputs": [
        {
          "output_type": "stream",
          "name": "stdout",
          "text": [
            "--2025-03-20 10:53:02--  https://dlcdn.apache.org/spark/spark-3.5.5/spark-3.5.5-bin-hadoop3.tgz\n",
            "Resolving dlcdn.apache.org (dlcdn.apache.org)... 151.101.2.132, 2a04:4e42::644\n",
            "Connecting to dlcdn.apache.org (dlcdn.apache.org)|151.101.2.132|:443... connected.\n",
            "HTTP request sent, awaiting response... 200 OK\n",
            "Length: 400724056 (382M) [application/x-gzip]\n",
            "Saving to: ‘spark-3.5.5-bin-hadoop3.tgz’\n",
            "\n",
            "spark-3.5.5-bin-had 100%[===================>] 382.16M  41.0MB/s    in 6.5s    \n",
            "\n",
            "2025-03-20 10:53:08 (58.8 MB/s) - ‘spark-3.5.5-bin-hadoop3.tgz’ saved [400724056/400724056]\n",
            "\n",
            "Requirement already satisfied: findspark in /usr/local/lib/python3.11/dist-packages (2.0.1)\n",
            "Requirement already satisfied: pyspark in /usr/local/lib/python3.11/dist-packages (3.5.5)\n",
            "Requirement already satisfied: py4j==0.10.9.7 in /usr/local/lib/python3.11/dist-packages (from pyspark) (0.10.9.7)\n",
            "Requirement already satisfied: kaggle in /usr/local/lib/python3.11/dist-packages (1.6.17)\n",
            "Requirement already satisfied: six>=1.10 in /usr/local/lib/python3.11/dist-packages (from kaggle) (1.17.0)\n",
            "Requirement already satisfied: certifi>=2023.7.22 in /usr/local/lib/python3.11/dist-packages (from kaggle) (2025.1.31)\n",
            "Requirement already satisfied: python-dateutil in /usr/local/lib/python3.11/dist-packages (from kaggle) (2.8.2)\n",
            "Requirement already satisfied: requests in /usr/local/lib/python3.11/dist-packages (from kaggle) (2.32.3)\n",
            "Requirement already satisfied: tqdm in /usr/local/lib/python3.11/dist-packages (from kaggle) (4.67.1)\n",
            "Requirement already satisfied: python-slugify in /usr/local/lib/python3.11/dist-packages (from kaggle) (8.0.4)\n",
            "Requirement already satisfied: urllib3 in /usr/local/lib/python3.11/dist-packages (from kaggle) (2.3.0)\n",
            "Requirement already satisfied: bleach in /usr/local/lib/python3.11/dist-packages (from kaggle) (6.2.0)\n",
            "Requirement already satisfied: webencodings in /usr/local/lib/python3.11/dist-packages (from bleach->kaggle) (0.5.1)\n",
            "Requirement already satisfied: text-unidecode>=1.3 in /usr/local/lib/python3.11/dist-packages (from python-slugify->kaggle) (1.3)\n",
            "Requirement already satisfied: charset-normalizer<4,>=2 in /usr/local/lib/python3.11/dist-packages (from requests->kaggle) (3.4.1)\n",
            "Requirement already satisfied: idna<4,>=2.5 in /usr/local/lib/python3.11/dist-packages (from requests->kaggle) (3.10)\n"
          ]
        }
      ]
    },
    {
      "cell_type": "code",
      "source": [
        "# Import necessary libraries\n",
        "import os\n",
        "import findspark\n",
        "from pyspark.sql import SparkSession\n",
        "import pyspark.sql.types as T\n",
        "import pyspark.sql.functions as F\n",
        "from pyspark.sql.window import Window\n",
        "from itertools import combinations\n",
        "from collections import defaultdict\n",
        "import time\n",
        "import pandas as pd\n",
        "import numpy as np\n",
        "import matplotlib.pyplot as plt"
      ],
      "metadata": {
        "id": "fVvBPi0MCWhB"
      },
      "execution_count": null,
      "outputs": []
    },
    {
      "cell_type": "code",
      "source": [
        "# Set up Spark\n",
        "os.environ['JAVA_HOME'] = '/usr/lib/jvm/java-17-openjdk-amd64'\n",
        "os.environ['SPARK_HOME'] = '/content/spark-3.5.5-bin-hadoop3'\n",
        "\n",
        "findspark.init()\n",
        "findspark.find()\n",
        "\n",
        "spark = SparkSession.builder.appName('FrequentItemsetMining').getOrCreate()\n",
        "spark"
      ],
      "metadata": {
        "colab": {
          "base_uri": "https://localhost:8080/",
          "height": 219
        },
        "id": "tqtZy8e85_lZ",
        "outputId": "95d70111-0b11-4129-b890-4d542777c64b"
      },
      "execution_count": null,
      "outputs": [
        {
          "output_type": "execute_result",
          "data": {
            "text/plain": [
              "<pyspark.sql.session.SparkSession at 0x7af31a1a2210>"
            ],
            "text/html": [
              "\n",
              "            <div>\n",
              "                <p><b>SparkSession - in-memory</b></p>\n",
              "                \n",
              "        <div>\n",
              "            <p><b>SparkContext</b></p>\n",
              "\n",
              "            <p><a href=\"http://af25de3f218c:4040\">Spark UI</a></p>\n",
              "\n",
              "            <dl>\n",
              "              <dt>Version</dt>\n",
              "                <dd><code>v3.5.5</code></dd>\n",
              "              <dt>Master</dt>\n",
              "                <dd><code>local[*]</code></dd>\n",
              "              <dt>AppName</dt>\n",
              "                <dd><code>FrequentItemsetMining</code></dd>\n",
              "            </dl>\n",
              "        </div>\n",
              "        \n",
              "            </div>\n",
              "        "
            ]
          },
          "metadata": {},
          "execution_count": 4
        }
      ]
    },
    {
      "cell_type": "code",
      "source": [
        "# Download the Kaggle datasets into \"data\" folder\n",
        "\n",
        "# Create \"data\" folder\n",
        "os.makedirs('data', exist_ok=True)\n",
        "\n",
        "# Authenticate Kaggle API\n",
        "kaggle_username = '' # Insert your Kaggle credentials\n",
        "kaggle_key = ''\n",
        "\n",
        "os.environ['KAGGLE_USERNAME'] = kaggle_username\n",
        "os.environ['KAGGLE_KEY'] = kaggle_key\n",
        "\n",
        "# Download the datasets and unzip\n",
        "!kaggle datasets download mohamedbakhet/amazon-books-reviews -p data --unzip"
      ],
      "metadata": {
        "id": "wOgxGlnpCqKJ",
        "colab": {
          "base_uri": "https://localhost:8080/"
        },
        "outputId": "af6b0847-05f0-4e44-eb9c-41e0d1e8a499"
      },
      "execution_count": null,
      "outputs": [
        {
          "output_type": "stream",
          "name": "stdout",
          "text": [
            "Warning: Looks like you're using an outdated API Version, please consider updating (server 1.7.4.2 / client 1.6.17)\n",
            "Dataset URL: https://www.kaggle.com/datasets/mohamedbakhet/amazon-books-reviews\n",
            "License(s): CC0-1.0\n",
            "Downloading amazon-books-reviews.zip to data\n",
            " 99% 1.06G/1.06G [00:09<00:00, 194MB/s]\n",
            "100% 1.06G/1.06G [00:09<00:00, 118MB/s]\n"
          ]
        }
      ]
    },
    {
      "cell_type": "code",
      "source": [
        "# Load the dataset containing reviews\n",
        "schema = T.StructType([\n",
        "    T.StructField('Id', T.StringType(), True),\n",
        "    T.StructField('Title', T.StringType(), True),\n",
        "    T.StructField('Price', T.FloatType(), True),\n",
        "    T.StructField('User_id', T.StringType(), True),\n",
        "    T.StructField('profileName', T.StringType(), True),\n",
        "    T.StructField('review/helpfulness', T.StringType(), True),\n",
        "    T.StructField('review/score', T.FloatType(), True),\n",
        "    T.StructField('review/time', T.IntegerType(), True),\n",
        "    T.StructField('review/summary', T.StringType(), True),\n",
        "    T.StructField('review/text', T.StringType(), True),\n",
        "])\n",
        "\n",
        "reviews = spark.read.csv('data/Books_rating.csv', schema=schema, header=True, escape='\"')\n",
        "reviews.printSchema()"
      ],
      "metadata": {
        "colab": {
          "base_uri": "https://localhost:8080/"
        },
        "id": "EA8P3Klm8ow1",
        "outputId": "6af078a5-d132-43fd-bd4b-c2e9485230b5"
      },
      "execution_count": null,
      "outputs": [
        {
          "output_type": "stream",
          "name": "stdout",
          "text": [
            "root\n",
            " |-- Id: string (nullable = true)\n",
            " |-- Title: string (nullable = true)\n",
            " |-- Price: float (nullable = true)\n",
            " |-- User_id: string (nullable = true)\n",
            " |-- profileName: string (nullable = true)\n",
            " |-- review/helpfulness: string (nullable = true)\n",
            " |-- review/score: float (nullable = true)\n",
            " |-- review/time: integer (nullable = true)\n",
            " |-- review/summary: string (nullable = true)\n",
            " |-- review/text: string (nullable = true)\n",
            "\n"
          ]
        }
      ]
    },
    {
      "cell_type": "code",
      "source": [
        "# Sample the dataset according to DATA_FRACTION\n",
        "if DATA_FRACTION < 1:\n",
        "    print(f'Sampling {DATA_FRACTION * 100:.0f}% of the dataset.')\n",
        "    reviews = reviews.sample(False, DATA_FRACTION, 42)\n",
        "else:\n",
        "    print('Using the entire dataset.')"
      ],
      "metadata": {
        "colab": {
          "base_uri": "https://localhost:8080/"
        },
        "id": "HO58Rii84iha",
        "outputId": "46666913-d842-470e-beac-21c9e34e7053"
      },
      "execution_count": null,
      "outputs": [
        {
          "output_type": "stream",
          "name": "stdout",
          "text": [
            "Using the entire dataset.\n"
          ]
        }
      ]
    },
    {
      "cell_type": "code",
      "source": [
        "n_rows, n_columns = reviews.count(), len(reviews.columns)\n",
        "print(f'The dataset contains {n_rows} rows and {n_columns} columns.')"
      ],
      "metadata": {
        "id": "_cThXYul9WeG",
        "colab": {
          "base_uri": "https://localhost:8080/"
        },
        "outputId": "8fae4043-1f2a-4b8d-fc0d-65707b4a23a3"
      },
      "execution_count": null,
      "outputs": [
        {
          "output_type": "stream",
          "name": "stdout",
          "text": [
            "The dataset contains 3000000 rows and 10 columns.\n"
          ]
        }
      ]
    },
    {
      "cell_type": "code",
      "source": [
        "print('First few rows of the dataset:')\n",
        "reviews.show(10)"
      ],
      "metadata": {
        "id": "Sv0cVT8QGimk",
        "colab": {
          "base_uri": "https://localhost:8080/"
        },
        "outputId": "3bf32761-afe1-40f3-d992-5ec4cb99c9d1"
      },
      "execution_count": null,
      "outputs": [
        {
          "output_type": "stream",
          "name": "stdout",
          "text": [
            "First few rows of the dataset:\n",
            "+----------+--------------------+-----+--------------+--------------------+------------------+------------+-----------+--------------------+--------------------+\n",
            "|        Id|               Title|Price|       User_id|         profileName|review/helpfulness|review/score|review/time|      review/summary|         review/text|\n",
            "+----------+--------------------+-----+--------------+--------------------+------------------+------------+-----------+--------------------+--------------------+\n",
            "|1882931173|Its Only Art If I...| NULL| AVCGYZL8FQQTD|Jim of Oz \"jim-of...|               7/7|         4.0|  940636800|Nice collection o...|This is only for ...|\n",
            "|0826414346|Dr. Seuss: Americ...| NULL|A30TK6U7DNS82R|       Kevin Killian|             10/10|         5.0| 1095724800|   Really Enjoyed It|I don't care much...|\n",
            "|0826414346|Dr. Seuss: Americ...| NULL|A3UH4UZ4RSVO82|        John Granger|             10/11|         5.0| 1078790400|Essential for eve...|If people become ...|\n",
            "|0826414346|Dr. Seuss: Americ...| NULL|A2MVUWT453QH61|Roy E. Perry \"ama...|               7/7|         4.0| 1090713600|Phlip Nel gives s...|Theodore Seuss Ge...|\n",
            "|0826414346|Dr. Seuss: Americ...| NULL|A22X4XUPKF66MR|D. H. Richards \"n...|               3/3|         4.0| 1107993600|Good academic ove...|Philip Nel - Dr. ...|\n",
            "|0826414346|Dr. Seuss: Americ...| NULL|A2F6NONFUDB6UK|              Malvin|               2/2|         4.0| 1127174400|One of America's ...|\"Dr. Seuss: Ameri...|\n",
            "|0826414346|Dr. Seuss: Americ...| NULL|A14OJS0VWMOSWO| Midwest Book Review|               3/4|         5.0| 1100131200|A memorably excel...|Theodor Seuss Gie...|\n",
            "|0826414346|Dr. Seuss: Americ...| NULL|A2RSSXTDZDUSH4|           J. Squire|               0/0|         5.0| 1231200000|Academia At It's ...|When I recieved t...|\n",
            "|0826414346|Dr. Seuss: Americ...| NULL|A25MD5I2GUIW6W|J. P. HIGBED \"big...|               0/0|         5.0| 1209859200|And to think that...|Trams (or any pub...|\n",
            "|0826414346|Dr. Seuss: Americ...| NULL|A3VA4XFS5WNJO3|     Donald Burnside|               3/5|         4.0| 1076371200|Fascinating accou...|As far as I am aw...|\n",
            "+----------+--------------------+-----+--------------+--------------------+------------------+------------+-----------+--------------------+--------------------+\n",
            "only showing top 10 rows\n",
            "\n"
          ]
        }
      ]
    },
    {
      "cell_type": "code",
      "source": [
        "# Select and rename relevant columns\n",
        "reviews = reviews.select('Id', 'Title', 'User_id', 'review/score')\n",
        "reviews = reviews.withColumnRenamed('Id', 'book_id')\\\n",
        ".withColumnRenamed('Title', 'title')\\\n",
        ".withColumnRenamed('User_id', 'user_id')\\\n",
        ".withColumnRenamed('review/score', 'rating')\n",
        "reviews.printSchema()"
      ],
      "metadata": {
        "colab": {
          "base_uri": "https://localhost:8080/"
        },
        "id": "DZt-QGFi96kk",
        "outputId": "75b503bb-ebec-4cc3-c013-89c2a447e2b8"
      },
      "execution_count": null,
      "outputs": [
        {
          "output_type": "stream",
          "name": "stdout",
          "text": [
            "root\n",
            " |-- book_id: string (nullable = true)\n",
            " |-- title: string (nullable = true)\n",
            " |-- user_id: string (nullable = true)\n",
            " |-- rating: float (nullable = true)\n",
            "\n"
          ]
        }
      ]
    },
    {
      "cell_type": "code",
      "source": [
        "# Check for missing values\n",
        "print('Summary of missing values:')\n",
        "reviews.select([F.count(F.when(F.isnull(c), c)).alias(c) for c in reviews.columns]).show()"
      ],
      "metadata": {
        "id": "MYW15kdPHzNC",
        "colab": {
          "base_uri": "https://localhost:8080/"
        },
        "outputId": "5f3469f0-5d4e-4d54-ea61-34bde223ddd5"
      },
      "execution_count": null,
      "outputs": [
        {
          "output_type": "stream",
          "name": "stdout",
          "text": [
            "Summary of missing values:\n",
            "+-------+-----+-------+------+\n",
            "|book_id|title|user_id|rating|\n",
            "+-------+-----+-------+------+\n",
            "|      0|  208| 561787|     0|\n",
            "+-------+-----+-------+------+\n",
            "\n"
          ]
        }
      ]
    },
    {
      "cell_type": "code",
      "source": [
        "# Drop rows with missing values\n",
        "reviews = reviews.dropna()\n",
        "print(f'Remaining rows: {reviews.count()}')"
      ],
      "metadata": {
        "id": "Yp8--2Yz-V1P",
        "colab": {
          "base_uri": "https://localhost:8080/"
        },
        "outputId": "934f28d7-a4fe-443a-d0b5-827b6760c38b"
      },
      "execution_count": null,
      "outputs": [
        {
          "output_type": "stream",
          "name": "stdout",
          "text": [
            "Remaining rows: 2438018\n"
          ]
        }
      ]
    },
    {
      "cell_type": "code",
      "source": [
        "# Check for empty strings in book_id, title and user_id columns\n",
        "columns = ['book_id', 'title', 'user_id']\n",
        "\n",
        "for column in columns:\n",
        "  count = reviews.filter(F.col(column) == '').count()\n",
        "  if count > 0:\n",
        "    print(f'Warning: \"{column}\" contains {count} empty string(s).')\n",
        "  else:\n",
        "    print(f'\"{column}\" has no empty strings.')"
      ],
      "metadata": {
        "id": "65BWTRz8NQ4w",
        "colab": {
          "base_uri": "https://localhost:8080/"
        },
        "outputId": "b4efc54e-21da-44c6-d897-55c28a8c56eb"
      },
      "execution_count": null,
      "outputs": [
        {
          "output_type": "stream",
          "name": "stdout",
          "text": [
            "\"book_id\" has no empty strings.\n",
            "\"title\" has no empty strings.\n",
            "\"user_id\" has no empty strings.\n"
          ]
        }
      ]
    },
    {
      "cell_type": "code",
      "source": [
        "# Check for unique values in rating column\n",
        "print('Unique values in \"rating\":')\n",
        "reviews.select('rating').distinct().show()"
      ],
      "metadata": {
        "id": "tVbqGCLvOvDu",
        "colab": {
          "base_uri": "https://localhost:8080/"
        },
        "outputId": "af8040dd-22e5-44ca-9dff-7172f1714453"
      },
      "execution_count": null,
      "outputs": [
        {
          "output_type": "stream",
          "name": "stdout",
          "text": [
            "Unique values in \"rating\":\n",
            "+------+\n",
            "|rating|\n",
            "+------+\n",
            "|   5.0|\n",
            "|   2.0|\n",
            "|   3.0|\n",
            "|   1.0|\n",
            "|   4.0|\n",
            "+------+\n",
            "\n"
          ]
        }
      ]
    },
    {
      "cell_type": "code",
      "source": [
        "# Check distribution of values in rating column\n",
        "print('Distribution of values in \"rating\":')\n",
        "reviews.groupBy('rating').count().show()"
      ],
      "metadata": {
        "id": "kd3Q8828PVZj",
        "colab": {
          "base_uri": "https://localhost:8080/"
        },
        "outputId": "a30ea276-d71f-4a9f-d657-b57b200b6e55"
      },
      "execution_count": null,
      "outputs": [
        {
          "output_type": "stream",
          "name": "stdout",
          "text": [
            "Distribution of values in \"rating\":\n",
            "+------+-------+\n",
            "|rating|  count|\n",
            "+------+-------+\n",
            "|   5.0|1462175|\n",
            "|   2.0| 119629|\n",
            "|   3.0| 212908|\n",
            "|   1.0| 151152|\n",
            "|   4.0| 492154|\n",
            "+------+-------+\n",
            "\n"
          ]
        }
      ]
    },
    {
      "cell_type": "code",
      "source": [
        "# Filter for 'liked' books, i.e., rating 4. or 5. and drop rating column\n",
        "reviews = reviews.filter(F.col('rating') >= 4.).drop('rating')\n",
        "print(f'Remaining rows: {reviews.count()}')"
      ],
      "metadata": {
        "id": "-vL8FPzf-6Dd",
        "colab": {
          "base_uri": "https://localhost:8080/"
        },
        "outputId": "fbe66ce6-8a7c-4f5e-867d-37ad5d6ce0c5"
      },
      "execution_count": null,
      "outputs": [
        {
          "output_type": "stream",
          "name": "stdout",
          "text": [
            "Remaining rows: 1954329\n"
          ]
        }
      ]
    },
    {
      "cell_type": "code",
      "source": [
        "# Some books have 2 or more different book_ids\n",
        "reviews.groupBy('title').agg(F.countDistinct('book_id')).filter(F.col('count(DISTINCT book_id)') > 1).show(5)"
      ],
      "metadata": {
        "id": "lDncuzpGQTjH",
        "colab": {
          "base_uri": "https://localhost:8080/"
        },
        "outputId": "359a4399-d76f-4322-da07-1b830531faed"
      },
      "execution_count": null,
      "outputs": [
        {
          "output_type": "stream",
          "name": "stdout",
          "text": [
            "+--------------------+-----------------------+\n",
            "|               title|count(DISTINCT book_id)|\n",
            "+--------------------+-----------------------+\n",
            "|Wandering under sail|                      2|\n",
            "|                   K|                      2|\n",
            "|           Amaryllis|                      3|\n",
            "|Central Problems ...|                      2|\n",
            "|The Keepers of th...|                      2|\n",
            "+--------------------+-----------------------+\n",
            "only showing top 5 rows\n",
            "\n"
          ]
        }
      ]
    },
    {
      "cell_type": "code",
      "source": [
        "# Generate unique title-user_id pairs\n",
        "reviews = reviews.select('title', 'user_id').dropDuplicates()\n",
        "print(f'Remaining rows: {reviews.count()}')\n",
        "\n",
        "# Result:\n",
        "# E.g., If user X 'liked' book A, but under 2 (or more) different book_ids -> only one pair user X-book A will be left\n",
        "# E.g., If user X 'liked' book A under the same book_id, but twice (or more times) -> only one pair user X-book A will be left"
      ],
      "metadata": {
        "id": "Xi1KALzh_H79",
        "colab": {
          "base_uri": "https://localhost:8080/"
        },
        "outputId": "e6924ea2-d29d-4a60-f368-9d3fc39f235c"
      },
      "execution_count": null,
      "outputs": [
        {
          "output_type": "stream",
          "name": "stdout",
          "text": [
            "Remaining rows: 1690999\n"
          ]
        }
      ]
    },
    {
      "cell_type": "code",
      "source": [
        "print('First few rows of the dataset:')\n",
        "reviews.show(5)"
      ],
      "metadata": {
        "id": "LUOjG1mLSEXI",
        "colab": {
          "base_uri": "https://localhost:8080/"
        },
        "outputId": "c2df8822-bc25-4513-8656-77cae32c794c"
      },
      "execution_count": null,
      "outputs": [
        {
          "output_type": "stream",
          "name": "stdout",
          "text": [
            "First few rows of the dataset:\n",
            "+--------------------+--------------+\n",
            "|               title|       user_id|\n",
            "+--------------------+--------------+\n",
            "|Night World: Daug...| A5PTRZJFN2SVJ|\n",
            "|    The Food Of Love|A2XKP1M4MOYS3Q|\n",
            "|The Scarletti Cur...|A28185JY1JJEYD|\n",
            "|Economics in one ...| ATMOVG6SV5D2B|\n",
            "|Economics in one ...|A3LH3VTHCH45KM|\n",
            "+--------------------+--------------+\n",
            "only showing top 5 rows\n",
            "\n"
          ]
        }
      ]
    },
    {
      "cell_type": "code",
      "source": [
        "# Generate a new book_id based on title\n",
        "book_window = Window.orderBy('title')\n",
        "reviews = reviews.withColumn('book_id', F.dense_rank().over(book_window))\n",
        "\n",
        "# Convert user_id into an integer id\n",
        "user_window = Window.orderBy('user_id')\n",
        "reviews = reviews.withColumn('user_id_int', F.dense_rank().over(user_window))\n",
        "\n",
        "print('First few rows of the dataset:')\n",
        "reviews.show(5)"
      ],
      "metadata": {
        "id": "e1r0camm_yOS",
        "colab": {
          "base_uri": "https://localhost:8080/"
        },
        "outputId": "836fb9fe-b43e-413a-da5a-f20592d32d46"
      },
      "execution_count": null,
      "outputs": [
        {
          "output_type": "stream",
          "name": "stdout",
          "text": [
            "First few rows of the dataset:\n",
            "+--------------------+--------------------+-------+-----------+\n",
            "|               title|             user_id|book_id|user_id_int|\n",
            "+--------------------+--------------------+-------+-----------+\n",
            "|This Calder Range...|A00109803PZJ91RLT...| 175061|          1|\n",
            "|The Queen of Harl...|A00117421L76WVWG4...| 160449|          2|\n",
            "|The Richest Man i...|A0015610VMNR0JC9XVL1| 161300|          3|\n",
            "|The richest man i...|A0015610VMNR0JC9XVL1| 173040|          3|\n",
            "|The richest man i...|A0015610VMNR0JC9XVL1| 173041|          3|\n",
            "+--------------------+--------------------+-------+-----------+\n",
            "only showing top 5 rows\n",
            "\n"
          ]
        }
      ]
    },
    {
      "cell_type": "code",
      "source": [
        "# Is the new book_id unique per title?\n",
        "reviews.groupBy('title').agg(F.countDistinct('book_id')).filter(F.col('count(DISTINCT book_id)') != 1).show()"
      ],
      "metadata": {
        "id": "dDgKXIvS55PS",
        "colab": {
          "base_uri": "https://localhost:8080/"
        },
        "outputId": "ac7ce55e-9cc6-4ca3-d238-301bc3dfaf90"
      },
      "execution_count": null,
      "outputs": [
        {
          "output_type": "stream",
          "name": "stdout",
          "text": [
            "+-----+-----------------------+\n",
            "|title|count(DISTINCT book_id)|\n",
            "+-----+-----------------------+\n",
            "+-----+-----------------------+\n",
            "\n"
          ]
        }
      ]
    },
    {
      "cell_type": "code",
      "source": [
        "# Are there collisions?\n",
        "reviews.groupBy('book_id').agg(F.countDistinct('title')).filter(F.col('count(DISTINCT title)') != 1).show()"
      ],
      "metadata": {
        "id": "C2KAXkIuGLUw",
        "colab": {
          "base_uri": "https://localhost:8080/"
        },
        "outputId": "cacdeefb-0f92-4acb-c538-622786884c45"
      },
      "execution_count": null,
      "outputs": [
        {
          "output_type": "stream",
          "name": "stdout",
          "text": [
            "+-------+---------------------+\n",
            "|book_id|count(DISTINCT title)|\n",
            "+-------+---------------------+\n",
            "+-------+---------------------+\n",
            "\n"
          ]
        }
      ]
    },
    {
      "cell_type": "code",
      "source": [
        "# Create a mapping table: book_id->title\n",
        "book_id_to_title = reviews.select('book_id', 'title').distinct()"
      ],
      "metadata": {
        "id": "ZknQ1kXAdWQW"
      },
      "execution_count": null,
      "outputs": []
    },
    {
      "cell_type": "code",
      "source": [
        "# Is the integer user_id unique per user_id?\n",
        "reviews.groupBy('user_id').agg(F.countDistinct('user_id_int')).filter(F.col('count(DISTINCT user_id_int)') != 1).show()"
      ],
      "metadata": {
        "id": "LBlCekobA1hz",
        "colab": {
          "base_uri": "https://localhost:8080/"
        },
        "outputId": "ee90765a-92bc-4bf0-9f4c-5263bebd7963"
      },
      "execution_count": null,
      "outputs": [
        {
          "output_type": "stream",
          "name": "stdout",
          "text": [
            "+-------+---------------------------+\n",
            "|user_id|count(DISTINCT user_id_int)|\n",
            "+-------+---------------------------+\n",
            "+-------+---------------------------+\n",
            "\n"
          ]
        }
      ]
    },
    {
      "cell_type": "code",
      "source": [
        "# Are there collisions?\n",
        "reviews.groupBy('user_id_int').agg(F.countDistinct('user_id')).filter(F.col('count(DISTINCT user_id)') != 1).show()"
      ],
      "metadata": {
        "id": "JM6ggOhSGyiu",
        "colab": {
          "base_uri": "https://localhost:8080/"
        },
        "outputId": "9b995b07-3140-4d7b-dab4-5252bc4aaedc"
      },
      "execution_count": null,
      "outputs": [
        {
          "output_type": "stream",
          "name": "stdout",
          "text": [
            "+-----------+-----------------------+\n",
            "|user_id_int|count(DISTINCT user_id)|\n",
            "+-----------+-----------------------+\n",
            "+-----------+-----------------------+\n",
            "\n"
          ]
        }
      ]
    },
    {
      "cell_type": "code",
      "source": [
        "# Select and rename relevant columns\n",
        "data = reviews.select('user_id_int', 'book_id')\n",
        "data = data\\\n",
        ".withColumnRenamed('user_id_int', 'basket_id')\\\n",
        ".withColumnRenamed('book_id', 'item_id') # Universal names: user_id -> basket_id, book_id -> item_id\n",
        "data.printSchema()"
      ],
      "metadata": {
        "id": "mxDZJ_EuTAVT",
        "colab": {
          "base_uri": "https://localhost:8080/"
        },
        "outputId": "70d43ed7-d326-4c3b-970b-0de92b2931a0"
      },
      "execution_count": null,
      "outputs": [
        {
          "output_type": "stream",
          "name": "stdout",
          "text": [
            "root\n",
            " |-- basket_id: integer (nullable = false)\n",
            " |-- item_id: integer (nullable = false)\n",
            "\n"
          ]
        }
      ]
    },
    {
      "cell_type": "code",
      "source": [
        "# Filter out basket_ids which correspond to only one item_id\n",
        "n_items_per_basket = data.groupBy('basket_id').count()\n",
        "data = data.join(n_items_per_basket, on='basket_id').filter(F.col('count') > 1).drop('count')\n",
        "print(f'Remaining rows: {data.count()}')"
      ],
      "metadata": {
        "id": "nkcMTdhq7jPx",
        "colab": {
          "base_uri": "https://localhost:8080/"
        },
        "outputId": "bded1397-6be1-4808-9d1b-c563aafecff3"
      },
      "execution_count": null,
      "outputs": [
        {
          "output_type": "stream",
          "name": "stdout",
          "text": [
            "Remaining rows: 1076095\n"
          ]
        }
      ]
    },
    {
      "cell_type": "code",
      "source": [
        "# Create baskets by grouping items by basket_id\n",
        "baskets = data\\\n",
        ".rdd\\\n",
        ".groupByKey()\\\n",
        ".mapValues(set)\\\n",
        ".values()\n",
        "\n",
        "print('First few baskets:')\n",
        "baskets.top(5)"
      ],
      "metadata": {
        "id": "cOC0zOFQ9bRI",
        "colab": {
          "base_uri": "https://localhost:8080/"
        },
        "outputId": "50701047-440d-4a25-a212-1c29a0e1cec8"
      },
      "execution_count": null,
      "outputs": [
        {
          "output_type": "stream",
          "name": "stdout",
          "text": [
            "First few baskets:\n"
          ]
        },
        {
          "output_type": "execute_result",
          "data": {
            "text/plain": [
              "[{40525, 127772, 168205, 188960},\n",
              " {13483, 127770},\n",
              " {161300, 173040, 173041},\n",
              " {150661, 150662, 150663, 150664, 150665},\n",
              " {68976, 68977}]"
            ]
          },
          "metadata": {},
          "execution_count": 28
        }
      ]
    },
    {
      "cell_type": "code",
      "source": [
        "n_baskets = baskets.count()\n",
        "print(f'Total baskets: {n_baskets}')"
      ],
      "metadata": {
        "colab": {
          "base_uri": "https://localhost:8080/"
        },
        "id": "jGpapqrzSyND",
        "outputId": "d0405625-0d26-4e68-8358-d9558c42cb35"
      },
      "execution_count": null,
      "outputs": [
        {
          "output_type": "stream",
          "name": "stdout",
          "text": [
            "Total baskets: 221587\n"
          ]
        }
      ]
    },
    {
      "cell_type": "code",
      "source": [
        "# Force the use of two partitions\n",
        "if baskets.getNumPartitions() < 2:\n",
        "  baskets = baskets.repartition(2)\n",
        "print(f'Number of partitions: {baskets.getNumPartitions()}')"
      ],
      "metadata": {
        "colab": {
          "base_uri": "https://localhost:8080/"
        },
        "id": "EGXaSdTlAX7R",
        "outputId": "9fc8af96-7f50-4a7b-9f96-4b6801e00e61"
      },
      "execution_count": null,
      "outputs": [
        {
          "output_type": "stream",
          "name": "stdout",
          "text": [
            "Number of partitions: 2\n"
          ]
        }
      ]
    },
    {
      "cell_type": "code",
      "source": [
        "# Define functions to perform frequent itemset mining (SON+Apriori)\n",
        "def generate_candidate_itemsets(frequent_subsets, k, frequent_itemsets):\n",
        "  candidate_itemsets = set()\n",
        "\n",
        "  for subset1, subset2 in combinations(frequent_subsets, 2):\n",
        "    set1, set2 = set(subset1), set(subset2)\n",
        "    common_items = set1 & set2\n",
        "    if len(common_items) == k - 2:\n",
        "      candidate_itemset = tuple(sorted(set1 | set2))\n",
        "      if all(subset in frequent_itemsets for subset in combinations(candidate_itemset, k - 1)):\n",
        "        candidate_itemsets.add(candidate_itemset)\n",
        "\n",
        "  return list(candidate_itemsets)\n",
        "\n",
        "def apriori(baskets, min_count, k_max):\n",
        "  baskets = list(baskets) # Convert iterator to a list\n",
        "\n",
        "  item_counts = defaultdict(int)\n",
        "  for basket in baskets:\n",
        "    for item in basket:\n",
        "      item_counts[item] += 1\n",
        "\n",
        "  frequent_items = {item for item, count in item_counts.items() if count >= min_count}\n",
        "  output_frequent_itemsets = [(tuple([item]), 1) for item in frequent_items]\n",
        "\n",
        "  for k in range(2, k_max + 1):\n",
        "\n",
        "    counts = defaultdict(int)\n",
        "    for i, basket in enumerate(baskets):\n",
        "      filtered_basket = basket & frequent_items\n",
        "      if len(filtered_basket) < k:\n",
        "        continue\n",
        "\n",
        "      if k == 2:\n",
        "        for pair in combinations(filtered_basket, k):\n",
        "          sorted_pair = tuple(sorted(pair))\n",
        "          counts[sorted_pair] += 1\n",
        "      else:\n",
        "        frequent_subsets = [subset for subset in combinations(filtered_basket, k - 1) if subset in frequent_itemsets]\n",
        "        if len(frequent_subsets) < 2:\n",
        "          continue\n",
        "\n",
        "        candidate_itemsets = generate_candidate_itemsets(frequent_subsets, k, frequent_itemsets)\n",
        "        for candidate_itemset in candidate_itemsets:\n",
        "          counts[candidate_itemset] += 1\n",
        "\n",
        "    frequent_itemsets = {itemset for itemset, count in counts.items() if count >= min_count}\n",
        "    if not frequent_itemsets:\n",
        "      break\n",
        "\n",
        "    output_frequent_itemsets.extend([(itemset, 1) for itemset in frequent_itemsets])\n",
        "    frequent_items = {item for itemset in frequent_itemsets for item in itemset}\n",
        "\n",
        "  return output_frequent_itemsets\n",
        "\n",
        "def count_occurrences(baskets, itemsets):\n",
        "  baskets = list(baskets)\n",
        "\n",
        "  counts = defaultdict(int)\n",
        "\n",
        "  for itemset in itemsets:\n",
        "    itemset_set = set(itemset)\n",
        "    for basket in baskets:\n",
        "      if itemset_set.issubset(basket):\n",
        "        counts[tuple(sorted(itemset_set))] += 1\n",
        "\n",
        "  return list(counts.items())\n",
        "\n",
        "def son(baskets, min_support, k_max):\n",
        "  n_baskets = baskets.count()\n",
        "  n_partitions = baskets.getNumPartitions()\n",
        "\n",
        "  local_min_count = int(n_baskets/n_partitions * min_support)\n",
        "  global_min_count = int(n_baskets * min_support)\n",
        "\n",
        "  start_time = time.time()\n",
        "\n",
        "  local_frequent_itemsets = (\n",
        "      baskets\n",
        "      .mapPartitions(lambda partition: apriori(partition, local_min_count, k_max))\n",
        "      .reduceByKey(lambda x, y: x) # or .groupByKey()\n",
        "      .keys()\n",
        "      .collect()\n",
        "      )\n",
        "\n",
        "  global_frequent_itemsets = (\n",
        "      baskets\n",
        "      .mapPartitions(lambda partition: count_occurrences(partition, local_frequent_itemsets))\n",
        "      .reduceByKey(lambda x, y: x + y)\n",
        "      .filter(lambda x: x[1] >= global_min_count)\n",
        "      .collect()\n",
        "      )\n",
        "\n",
        "  n_global_frequent_itemsets = len(global_frequent_itemsets)\n",
        "\n",
        "  end_time = time.time()\n",
        "  execution_time = end_time - start_time\n",
        "\n",
        "  return {\n",
        "      'n_baskets': n_baskets,\n",
        "      'min_support': min_support,\n",
        "      'k_max': k_max,\n",
        "      'execution_time': execution_time,\n",
        "      'n_frequent_itemsets': n_global_frequent_itemsets,\n",
        "      'frequent_itemsets': global_frequent_itemsets\n",
        "      }"
      ],
      "metadata": {
        "id": "lq3lgdfVWSsK"
      },
      "execution_count": null,
      "outputs": []
    },
    {
      "cell_type": "code",
      "source": [
        "# Mine for frequent pairs (SON+Apriori)\n",
        "min_support = 0.0001 # Minimum support: ~0.01% of all baskets\n",
        "k_max = 2\n",
        "\n",
        "pair_mining_results = son(baskets, min_support, k_max)\n",
        "pair_mining_execution_time = pair_mining_results['execution_time']\n",
        "frequent_pairs = pair_mining_results['frequent_itemsets']\n",
        "\n",
        "print(f'Execution time: {pair_mining_execution_time:.4f} seconds')\n",
        "\n",
        "for k in range(1, k_max + 1):\n",
        "  n_itemsets = sum(1 for itemset, _ in frequent_pairs if len(itemset) == k)\n",
        "  print(f'Number of frequent {k}-itemsets found: {n_itemsets}')"
      ],
      "metadata": {
        "colab": {
          "base_uri": "https://localhost:8080/"
        },
        "id": "Ys8AV-hEWtQ4",
        "outputId": "e06db3e7-9f08-45c3-8a23-ba985e2502e1"
      },
      "execution_count": null,
      "outputs": [
        {
          "output_type": "stream",
          "name": "stdout",
          "text": [
            "Execution time: 244.0376 seconds\n",
            "Number of frequent 1-itemsets found: 7289\n",
            "Number of frequent 2-itemsets found: 9565\n"
          ]
        }
      ]
    },
    {
      "cell_type": "code",
      "source": [
        "# Define a function to mine for association rules\n",
        "def association_rules(frequent_itemsets, n_baskets, min_confidence=0.0):\n",
        "\n",
        "  association_rules = []\n",
        "  frequent_itemsets_dict = {itemset: count for itemset, count in frequent_itemsets}\n",
        "\n",
        "  for itemset, count in frequent_itemsets_dict.items():\n",
        "\n",
        "    k = len(itemset)\n",
        "    support = count/n_baskets\n",
        "\n",
        "    if k > 1:\n",
        "      subsets_of_itemset = list(combinations(itemset, k - 1))\n",
        "\n",
        "      for subset in subsets_of_itemset:\n",
        "        antecedent = subset\n",
        "        consequent = tuple(set(itemset) - set(antecedent))\n",
        "\n",
        "        support_antecedent = frequent_itemsets_dict[antecedent]/n_baskets\n",
        "        support_consequent = frequent_itemsets_dict[consequent]/n_baskets\n",
        "\n",
        "        confidence = support / support_antecedent\n",
        "        interest = confidence - support_consequent\n",
        "\n",
        "        if confidence >= min_confidence:\n",
        "          association_rules.append((antecedent, consequent, support, confidence, interest))\n",
        "\n",
        "  return pd.DataFrame(\n",
        "      association_rules,\n",
        "      columns=['antecedents', 'consequents', 'support', 'confidence', 'interest']\n",
        "      )"
      ],
      "metadata": {
        "id": "jh39CQfeY8U8"
      },
      "execution_count": null,
      "outputs": []
    },
    {
      "cell_type": "code",
      "source": [
        "# Mine for association rules\n",
        "association_rules = association_rules(frequent_pairs, n_baskets)\n",
        "\n",
        "association_rules['antecedents'] = association_rules['antecedents'].apply(lambda x: x[0]) # From e.g., (6175,) to 6175\n",
        "association_rules['consequents'] = association_rules['consequents'].apply(lambda x: x[0])\n",
        "\n",
        "print(f'Number of association rules found: {association_rules.shape[0]}')\n",
        "print(f'First few association rules:')\n",
        "association_rules.head(5)"
      ],
      "metadata": {
        "colab": {
          "base_uri": "https://localhost:8080/",
          "height": 241
        },
        "id": "xKeqfet8ZUUt",
        "outputId": "70e1f88a-ab8c-4e0d-b46f-61ee7fe73b2e"
      },
      "execution_count": null,
      "outputs": [
        {
          "output_type": "stream",
          "name": "stdout",
          "text": [
            "Number of association rules found: 19130\n",
            "First few association rules:\n"
          ]
        },
        {
          "output_type": "execute_result",
          "data": {
            "text/plain": [
              "   antecedents  consequents   support  confidence  interest\n",
              "0         6175       188821  0.001119    0.992000  0.990881\n",
              "1       188821         6175  0.001119    1.000000  0.998872\n",
              "2       100728       107736  0.000149    0.191860  0.190425\n",
              "3       107736       100728  0.000149    0.103774  0.102997\n",
              "4       152668       171532  0.000099    1.000000  0.999901"
            ],
            "text/html": [
              "\n",
              "  <div id=\"df-b9568a63-7cb7-4cfe-a2fb-4609dfd9a77c\" class=\"colab-df-container\">\n",
              "    <div>\n",
              "<style scoped>\n",
              "    .dataframe tbody tr th:only-of-type {\n",
              "        vertical-align: middle;\n",
              "    }\n",
              "\n",
              "    .dataframe tbody tr th {\n",
              "        vertical-align: top;\n",
              "    }\n",
              "\n",
              "    .dataframe thead th {\n",
              "        text-align: right;\n",
              "    }\n",
              "</style>\n",
              "<table border=\"1\" class=\"dataframe\">\n",
              "  <thead>\n",
              "    <tr style=\"text-align: right;\">\n",
              "      <th></th>\n",
              "      <th>antecedents</th>\n",
              "      <th>consequents</th>\n",
              "      <th>support</th>\n",
              "      <th>confidence</th>\n",
              "      <th>interest</th>\n",
              "    </tr>\n",
              "  </thead>\n",
              "  <tbody>\n",
              "    <tr>\n",
              "      <th>0</th>\n",
              "      <td>6175</td>\n",
              "      <td>188821</td>\n",
              "      <td>0.001119</td>\n",
              "      <td>0.992000</td>\n",
              "      <td>0.990881</td>\n",
              "    </tr>\n",
              "    <tr>\n",
              "      <th>1</th>\n",
              "      <td>188821</td>\n",
              "      <td>6175</td>\n",
              "      <td>0.001119</td>\n",
              "      <td>1.000000</td>\n",
              "      <td>0.998872</td>\n",
              "    </tr>\n",
              "    <tr>\n",
              "      <th>2</th>\n",
              "      <td>100728</td>\n",
              "      <td>107736</td>\n",
              "      <td>0.000149</td>\n",
              "      <td>0.191860</td>\n",
              "      <td>0.190425</td>\n",
              "    </tr>\n",
              "    <tr>\n",
              "      <th>3</th>\n",
              "      <td>107736</td>\n",
              "      <td>100728</td>\n",
              "      <td>0.000149</td>\n",
              "      <td>0.103774</td>\n",
              "      <td>0.102997</td>\n",
              "    </tr>\n",
              "    <tr>\n",
              "      <th>4</th>\n",
              "      <td>152668</td>\n",
              "      <td>171532</td>\n",
              "      <td>0.000099</td>\n",
              "      <td>1.000000</td>\n",
              "      <td>0.999901</td>\n",
              "    </tr>\n",
              "  </tbody>\n",
              "</table>\n",
              "</div>\n",
              "    <div class=\"colab-df-buttons\">\n",
              "\n",
              "  <div class=\"colab-df-container\">\n",
              "    <button class=\"colab-df-convert\" onclick=\"convertToInteractive('df-b9568a63-7cb7-4cfe-a2fb-4609dfd9a77c')\"\n",
              "            title=\"Convert this dataframe to an interactive table.\"\n",
              "            style=\"display:none;\">\n",
              "\n",
              "  <svg xmlns=\"http://www.w3.org/2000/svg\" height=\"24px\" viewBox=\"0 -960 960 960\">\n",
              "    <path d=\"M120-120v-720h720v720H120Zm60-500h600v-160H180v160Zm220 220h160v-160H400v160Zm0 220h160v-160H400v160ZM180-400h160v-160H180v160Zm440 0h160v-160H620v160ZM180-180h160v-160H180v160Zm440 0h160v-160H620v160Z\"/>\n",
              "  </svg>\n",
              "    </button>\n",
              "\n",
              "  <style>\n",
              "    .colab-df-container {\n",
              "      display:flex;\n",
              "      gap: 12px;\n",
              "    }\n",
              "\n",
              "    .colab-df-convert {\n",
              "      background-color: #E8F0FE;\n",
              "      border: none;\n",
              "      border-radius: 50%;\n",
              "      cursor: pointer;\n",
              "      display: none;\n",
              "      fill: #1967D2;\n",
              "      height: 32px;\n",
              "      padding: 0 0 0 0;\n",
              "      width: 32px;\n",
              "    }\n",
              "\n",
              "    .colab-df-convert:hover {\n",
              "      background-color: #E2EBFA;\n",
              "      box-shadow: 0px 1px 2px rgba(60, 64, 67, 0.3), 0px 1px 3px 1px rgba(60, 64, 67, 0.15);\n",
              "      fill: #174EA6;\n",
              "    }\n",
              "\n",
              "    .colab-df-buttons div {\n",
              "      margin-bottom: 4px;\n",
              "    }\n",
              "\n",
              "    [theme=dark] .colab-df-convert {\n",
              "      background-color: #3B4455;\n",
              "      fill: #D2E3FC;\n",
              "    }\n",
              "\n",
              "    [theme=dark] .colab-df-convert:hover {\n",
              "      background-color: #434B5C;\n",
              "      box-shadow: 0px 1px 3px 1px rgba(0, 0, 0, 0.15);\n",
              "      filter: drop-shadow(0px 1px 2px rgba(0, 0, 0, 0.3));\n",
              "      fill: #FFFFFF;\n",
              "    }\n",
              "  </style>\n",
              "\n",
              "    <script>\n",
              "      const buttonEl =\n",
              "        document.querySelector('#df-b9568a63-7cb7-4cfe-a2fb-4609dfd9a77c button.colab-df-convert');\n",
              "      buttonEl.style.display =\n",
              "        google.colab.kernel.accessAllowed ? 'block' : 'none';\n",
              "\n",
              "      async function convertToInteractive(key) {\n",
              "        const element = document.querySelector('#df-b9568a63-7cb7-4cfe-a2fb-4609dfd9a77c');\n",
              "        const dataTable =\n",
              "          await google.colab.kernel.invokeFunction('convertToInteractive',\n",
              "                                                    [key], {});\n",
              "        if (!dataTable) return;\n",
              "\n",
              "        const docLinkHtml = 'Like what you see? Visit the ' +\n",
              "          '<a target=\"_blank\" href=https://colab.research.google.com/notebooks/data_table.ipynb>data table notebook</a>'\n",
              "          + ' to learn more about interactive tables.';\n",
              "        element.innerHTML = '';\n",
              "        dataTable['output_type'] = 'display_data';\n",
              "        await google.colab.output.renderOutput(dataTable, element);\n",
              "        const docLink = document.createElement('div');\n",
              "        docLink.innerHTML = docLinkHtml;\n",
              "        element.appendChild(docLink);\n",
              "      }\n",
              "    </script>\n",
              "  </div>\n",
              "\n",
              "\n",
              "<div id=\"df-871c5642-66a1-48a5-a8fe-bb5246c1a67e\">\n",
              "  <button class=\"colab-df-quickchart\" onclick=\"quickchart('df-871c5642-66a1-48a5-a8fe-bb5246c1a67e')\"\n",
              "            title=\"Suggest charts\"\n",
              "            style=\"display:none;\">\n",
              "\n",
              "<svg xmlns=\"http://www.w3.org/2000/svg\" height=\"24px\"viewBox=\"0 0 24 24\"\n",
              "     width=\"24px\">\n",
              "    <g>\n",
              "        <path d=\"M19 3H5c-1.1 0-2 .9-2 2v14c0 1.1.9 2 2 2h14c1.1 0 2-.9 2-2V5c0-1.1-.9-2-2-2zM9 17H7v-7h2v7zm4 0h-2V7h2v10zm4 0h-2v-4h2v4z\"/>\n",
              "    </g>\n",
              "</svg>\n",
              "  </button>\n",
              "\n",
              "<style>\n",
              "  .colab-df-quickchart {\n",
              "      --bg-color: #E8F0FE;\n",
              "      --fill-color: #1967D2;\n",
              "      --hover-bg-color: #E2EBFA;\n",
              "      --hover-fill-color: #174EA6;\n",
              "      --disabled-fill-color: #AAA;\n",
              "      --disabled-bg-color: #DDD;\n",
              "  }\n",
              "\n",
              "  [theme=dark] .colab-df-quickchart {\n",
              "      --bg-color: #3B4455;\n",
              "      --fill-color: #D2E3FC;\n",
              "      --hover-bg-color: #434B5C;\n",
              "      --hover-fill-color: #FFFFFF;\n",
              "      --disabled-bg-color: #3B4455;\n",
              "      --disabled-fill-color: #666;\n",
              "  }\n",
              "\n",
              "  .colab-df-quickchart {\n",
              "    background-color: var(--bg-color);\n",
              "    border: none;\n",
              "    border-radius: 50%;\n",
              "    cursor: pointer;\n",
              "    display: none;\n",
              "    fill: var(--fill-color);\n",
              "    height: 32px;\n",
              "    padding: 0;\n",
              "    width: 32px;\n",
              "  }\n",
              "\n",
              "  .colab-df-quickchart:hover {\n",
              "    background-color: var(--hover-bg-color);\n",
              "    box-shadow: 0 1px 2px rgba(60, 64, 67, 0.3), 0 1px 3px 1px rgba(60, 64, 67, 0.15);\n",
              "    fill: var(--button-hover-fill-color);\n",
              "  }\n",
              "\n",
              "  .colab-df-quickchart-complete:disabled,\n",
              "  .colab-df-quickchart-complete:disabled:hover {\n",
              "    background-color: var(--disabled-bg-color);\n",
              "    fill: var(--disabled-fill-color);\n",
              "    box-shadow: none;\n",
              "  }\n",
              "\n",
              "  .colab-df-spinner {\n",
              "    border: 2px solid var(--fill-color);\n",
              "    border-color: transparent;\n",
              "    border-bottom-color: var(--fill-color);\n",
              "    animation:\n",
              "      spin 1s steps(1) infinite;\n",
              "  }\n",
              "\n",
              "  @keyframes spin {\n",
              "    0% {\n",
              "      border-color: transparent;\n",
              "      border-bottom-color: var(--fill-color);\n",
              "      border-left-color: var(--fill-color);\n",
              "    }\n",
              "    20% {\n",
              "      border-color: transparent;\n",
              "      border-left-color: var(--fill-color);\n",
              "      border-top-color: var(--fill-color);\n",
              "    }\n",
              "    30% {\n",
              "      border-color: transparent;\n",
              "      border-left-color: var(--fill-color);\n",
              "      border-top-color: var(--fill-color);\n",
              "      border-right-color: var(--fill-color);\n",
              "    }\n",
              "    40% {\n",
              "      border-color: transparent;\n",
              "      border-right-color: var(--fill-color);\n",
              "      border-top-color: var(--fill-color);\n",
              "    }\n",
              "    60% {\n",
              "      border-color: transparent;\n",
              "      border-right-color: var(--fill-color);\n",
              "    }\n",
              "    80% {\n",
              "      border-color: transparent;\n",
              "      border-right-color: var(--fill-color);\n",
              "      border-bottom-color: var(--fill-color);\n",
              "    }\n",
              "    90% {\n",
              "      border-color: transparent;\n",
              "      border-bottom-color: var(--fill-color);\n",
              "    }\n",
              "  }\n",
              "</style>\n",
              "\n",
              "  <script>\n",
              "    async function quickchart(key) {\n",
              "      const quickchartButtonEl =\n",
              "        document.querySelector('#' + key + ' button');\n",
              "      quickchartButtonEl.disabled = true;  // To prevent multiple clicks.\n",
              "      quickchartButtonEl.classList.add('colab-df-spinner');\n",
              "      try {\n",
              "        const charts = await google.colab.kernel.invokeFunction(\n",
              "            'suggestCharts', [key], {});\n",
              "      } catch (error) {\n",
              "        console.error('Error during call to suggestCharts:', error);\n",
              "      }\n",
              "      quickchartButtonEl.classList.remove('colab-df-spinner');\n",
              "      quickchartButtonEl.classList.add('colab-df-quickchart-complete');\n",
              "    }\n",
              "    (() => {\n",
              "      let quickchartButtonEl =\n",
              "        document.querySelector('#df-871c5642-66a1-48a5-a8fe-bb5246c1a67e button');\n",
              "      quickchartButtonEl.style.display =\n",
              "        google.colab.kernel.accessAllowed ? 'block' : 'none';\n",
              "    })();\n",
              "  </script>\n",
              "</div>\n",
              "\n",
              "    </div>\n",
              "  </div>\n"
            ],
            "application/vnd.google.colaboratory.intrinsic+json": {
              "type": "dataframe",
              "variable_name": "association_rules",
              "summary": "{\n  \"name\": \"association_rules\",\n  \"rows\": 19130,\n  \"fields\": [\n    {\n      \"column\": \"antecedents\",\n      \"properties\": {\n        \"dtype\": \"number\",\n        \"std\": 55059,\n        \"min\": 10,\n        \"max\": 192136,\n        \"num_unique_values\": 4071,\n        \"samples\": [\n          101871,\n          124856,\n          173952\n        ],\n        \"semantic_type\": \"\",\n        \"description\": \"\"\n      }\n    },\n    {\n      \"column\": \"consequents\",\n      \"properties\": {\n        \"dtype\": \"number\",\n        \"std\": 55059,\n        \"min\": 10,\n        \"max\": 192136,\n        \"num_unique_values\": 4071,\n        \"samples\": [\n          101871,\n          124856,\n          166871\n        ],\n        \"semantic_type\": \"\",\n        \"description\": \"\"\n      }\n    },\n    {\n      \"column\": \"support\",\n      \"properties\": {\n        \"dtype\": \"number\",\n        \"std\": 0.0008949396696271512,\n        \"min\": 9.928380275016134e-05,\n        \"max\": 0.015082112217774508,\n        \"num_unique_values\": 415,\n        \"samples\": [\n          0.002396349966378894,\n          0.000216619206000352,\n          0.0025362498702541213\n        ],\n        \"semantic_type\": \"\",\n        \"description\": \"\"\n      }\n    },\n    {\n      \"column\": \"confidence\",\n      \"properties\": {\n        \"dtype\": \"number\",\n        \"std\": 0.4585279548504241,\n        \"min\": 0.006580915345498056,\n        \"max\": 1.0,\n        \"num_unique_values\": 3055,\n        \"samples\": [\n          0.9979591836734694,\n          0.9482758620689656,\n          0.12538226299694188\n        ],\n        \"semantic_type\": \"\",\n        \"description\": \"\"\n      }\n    },\n    {\n      \"column\": \"interest\",\n      \"properties\": {\n        \"dtype\": \"number\",\n        \"std\": 0.45996506912373175,\n        \"min\": -0.0002861103173847166,\n        \"max\": 0.9999007161972499,\n        \"num_unique_values\": 6677,\n        \"samples\": [\n          0.036742579358922535,\n          0.052253331586126966,\n          0.10521865695397987\n        ],\n        \"semantic_type\": \"\",\n        \"description\": \"\"\n      }\n    }\n  ]\n}"
            }
          },
          "metadata": {},
          "execution_count": 34
        }
      ]
    },
    {
      "cell_type": "code",
      "source": [
        "# Filter out rules:\n",
        "# 1) with negative or 0 interest,\n",
        "# 2) with confidence higher than (or equal to) 0.8\n",
        "association_rules_filtered = association_rules[(association_rules['interest'] > 0) &\n",
        " (association_rules['confidence'] < 0.8)]\\\n",
        " .sort_values('interest', ascending=False)\n",
        "\n",
        "print(f'Remaining association rules: {association_rules_filtered.shape[0]}')\n",
        "print(f'First few association rules (sorted by descending interest):')\n",
        "association_rules_filtered.head(5)"
      ],
      "metadata": {
        "colab": {
          "base_uri": "https://localhost:8080/",
          "height": 241
        },
        "id": "V3rpykpyaL60",
        "outputId": "cf74f518-62b9-433e-c267-6ec2279b65dc"
      },
      "execution_count": null,
      "outputs": [
        {
          "output_type": "stream",
          "name": "stdout",
          "text": [
            "Remaining association rules: 10500\n",
            "First few association rules (sorted by descending interest):\n"
          ]
        },
        {
          "output_type": "execute_result",
          "data": {
            "text/plain": [
              "       antecedents  consequents   support  confidence  interest\n",
              "12586        55499        81528  0.000190    0.792453  0.792155\n",
              "15444       117239       165802  0.000167    0.787234  0.786507\n",
              "4647        146315       146313  0.000253    0.777778  0.777525\n",
              "11982       146312       146313  0.000253    0.777778  0.777525\n",
              "6063        159101       108685  0.000244    0.771429  0.771185"
            ],
            "text/html": [
              "\n",
              "  <div id=\"df-9bf82343-233c-418e-afc2-0f29ca12d480\" class=\"colab-df-container\">\n",
              "    <div>\n",
              "<style scoped>\n",
              "    .dataframe tbody tr th:only-of-type {\n",
              "        vertical-align: middle;\n",
              "    }\n",
              "\n",
              "    .dataframe tbody tr th {\n",
              "        vertical-align: top;\n",
              "    }\n",
              "\n",
              "    .dataframe thead th {\n",
              "        text-align: right;\n",
              "    }\n",
              "</style>\n",
              "<table border=\"1\" class=\"dataframe\">\n",
              "  <thead>\n",
              "    <tr style=\"text-align: right;\">\n",
              "      <th></th>\n",
              "      <th>antecedents</th>\n",
              "      <th>consequents</th>\n",
              "      <th>support</th>\n",
              "      <th>confidence</th>\n",
              "      <th>interest</th>\n",
              "    </tr>\n",
              "  </thead>\n",
              "  <tbody>\n",
              "    <tr>\n",
              "      <th>12586</th>\n",
              "      <td>55499</td>\n",
              "      <td>81528</td>\n",
              "      <td>0.000190</td>\n",
              "      <td>0.792453</td>\n",
              "      <td>0.792155</td>\n",
              "    </tr>\n",
              "    <tr>\n",
              "      <th>15444</th>\n",
              "      <td>117239</td>\n",
              "      <td>165802</td>\n",
              "      <td>0.000167</td>\n",
              "      <td>0.787234</td>\n",
              "      <td>0.786507</td>\n",
              "    </tr>\n",
              "    <tr>\n",
              "      <th>4647</th>\n",
              "      <td>146315</td>\n",
              "      <td>146313</td>\n",
              "      <td>0.000253</td>\n",
              "      <td>0.777778</td>\n",
              "      <td>0.777525</td>\n",
              "    </tr>\n",
              "    <tr>\n",
              "      <th>11982</th>\n",
              "      <td>146312</td>\n",
              "      <td>146313</td>\n",
              "      <td>0.000253</td>\n",
              "      <td>0.777778</td>\n",
              "      <td>0.777525</td>\n",
              "    </tr>\n",
              "    <tr>\n",
              "      <th>6063</th>\n",
              "      <td>159101</td>\n",
              "      <td>108685</td>\n",
              "      <td>0.000244</td>\n",
              "      <td>0.771429</td>\n",
              "      <td>0.771185</td>\n",
              "    </tr>\n",
              "  </tbody>\n",
              "</table>\n",
              "</div>\n",
              "    <div class=\"colab-df-buttons\">\n",
              "\n",
              "  <div class=\"colab-df-container\">\n",
              "    <button class=\"colab-df-convert\" onclick=\"convertToInteractive('df-9bf82343-233c-418e-afc2-0f29ca12d480')\"\n",
              "            title=\"Convert this dataframe to an interactive table.\"\n",
              "            style=\"display:none;\">\n",
              "\n",
              "  <svg xmlns=\"http://www.w3.org/2000/svg\" height=\"24px\" viewBox=\"0 -960 960 960\">\n",
              "    <path d=\"M120-120v-720h720v720H120Zm60-500h600v-160H180v160Zm220 220h160v-160H400v160Zm0 220h160v-160H400v160ZM180-400h160v-160H180v160Zm440 0h160v-160H620v160ZM180-180h160v-160H180v160Zm440 0h160v-160H620v160Z\"/>\n",
              "  </svg>\n",
              "    </button>\n",
              "\n",
              "  <style>\n",
              "    .colab-df-container {\n",
              "      display:flex;\n",
              "      gap: 12px;\n",
              "    }\n",
              "\n",
              "    .colab-df-convert {\n",
              "      background-color: #E8F0FE;\n",
              "      border: none;\n",
              "      border-radius: 50%;\n",
              "      cursor: pointer;\n",
              "      display: none;\n",
              "      fill: #1967D2;\n",
              "      height: 32px;\n",
              "      padding: 0 0 0 0;\n",
              "      width: 32px;\n",
              "    }\n",
              "\n",
              "    .colab-df-convert:hover {\n",
              "      background-color: #E2EBFA;\n",
              "      box-shadow: 0px 1px 2px rgba(60, 64, 67, 0.3), 0px 1px 3px 1px rgba(60, 64, 67, 0.15);\n",
              "      fill: #174EA6;\n",
              "    }\n",
              "\n",
              "    .colab-df-buttons div {\n",
              "      margin-bottom: 4px;\n",
              "    }\n",
              "\n",
              "    [theme=dark] .colab-df-convert {\n",
              "      background-color: #3B4455;\n",
              "      fill: #D2E3FC;\n",
              "    }\n",
              "\n",
              "    [theme=dark] .colab-df-convert:hover {\n",
              "      background-color: #434B5C;\n",
              "      box-shadow: 0px 1px 3px 1px rgba(0, 0, 0, 0.15);\n",
              "      filter: drop-shadow(0px 1px 2px rgba(0, 0, 0, 0.3));\n",
              "      fill: #FFFFFF;\n",
              "    }\n",
              "  </style>\n",
              "\n",
              "    <script>\n",
              "      const buttonEl =\n",
              "        document.querySelector('#df-9bf82343-233c-418e-afc2-0f29ca12d480 button.colab-df-convert');\n",
              "      buttonEl.style.display =\n",
              "        google.colab.kernel.accessAllowed ? 'block' : 'none';\n",
              "\n",
              "      async function convertToInteractive(key) {\n",
              "        const element = document.querySelector('#df-9bf82343-233c-418e-afc2-0f29ca12d480');\n",
              "        const dataTable =\n",
              "          await google.colab.kernel.invokeFunction('convertToInteractive',\n",
              "                                                    [key], {});\n",
              "        if (!dataTable) return;\n",
              "\n",
              "        const docLinkHtml = 'Like what you see? Visit the ' +\n",
              "          '<a target=\"_blank\" href=https://colab.research.google.com/notebooks/data_table.ipynb>data table notebook</a>'\n",
              "          + ' to learn more about interactive tables.';\n",
              "        element.innerHTML = '';\n",
              "        dataTable['output_type'] = 'display_data';\n",
              "        await google.colab.output.renderOutput(dataTable, element);\n",
              "        const docLink = document.createElement('div');\n",
              "        docLink.innerHTML = docLinkHtml;\n",
              "        element.appendChild(docLink);\n",
              "      }\n",
              "    </script>\n",
              "  </div>\n",
              "\n",
              "\n",
              "<div id=\"df-531a2b5c-2f9c-45ea-ad8a-9890a7cd50f7\">\n",
              "  <button class=\"colab-df-quickchart\" onclick=\"quickchart('df-531a2b5c-2f9c-45ea-ad8a-9890a7cd50f7')\"\n",
              "            title=\"Suggest charts\"\n",
              "            style=\"display:none;\">\n",
              "\n",
              "<svg xmlns=\"http://www.w3.org/2000/svg\" height=\"24px\"viewBox=\"0 0 24 24\"\n",
              "     width=\"24px\">\n",
              "    <g>\n",
              "        <path d=\"M19 3H5c-1.1 0-2 .9-2 2v14c0 1.1.9 2 2 2h14c1.1 0 2-.9 2-2V5c0-1.1-.9-2-2-2zM9 17H7v-7h2v7zm4 0h-2V7h2v10zm4 0h-2v-4h2v4z\"/>\n",
              "    </g>\n",
              "</svg>\n",
              "  </button>\n",
              "\n",
              "<style>\n",
              "  .colab-df-quickchart {\n",
              "      --bg-color: #E8F0FE;\n",
              "      --fill-color: #1967D2;\n",
              "      --hover-bg-color: #E2EBFA;\n",
              "      --hover-fill-color: #174EA6;\n",
              "      --disabled-fill-color: #AAA;\n",
              "      --disabled-bg-color: #DDD;\n",
              "  }\n",
              "\n",
              "  [theme=dark] .colab-df-quickchart {\n",
              "      --bg-color: #3B4455;\n",
              "      --fill-color: #D2E3FC;\n",
              "      --hover-bg-color: #434B5C;\n",
              "      --hover-fill-color: #FFFFFF;\n",
              "      --disabled-bg-color: #3B4455;\n",
              "      --disabled-fill-color: #666;\n",
              "  }\n",
              "\n",
              "  .colab-df-quickchart {\n",
              "    background-color: var(--bg-color);\n",
              "    border: none;\n",
              "    border-radius: 50%;\n",
              "    cursor: pointer;\n",
              "    display: none;\n",
              "    fill: var(--fill-color);\n",
              "    height: 32px;\n",
              "    padding: 0;\n",
              "    width: 32px;\n",
              "  }\n",
              "\n",
              "  .colab-df-quickchart:hover {\n",
              "    background-color: var(--hover-bg-color);\n",
              "    box-shadow: 0 1px 2px rgba(60, 64, 67, 0.3), 0 1px 3px 1px rgba(60, 64, 67, 0.15);\n",
              "    fill: var(--button-hover-fill-color);\n",
              "  }\n",
              "\n",
              "  .colab-df-quickchart-complete:disabled,\n",
              "  .colab-df-quickchart-complete:disabled:hover {\n",
              "    background-color: var(--disabled-bg-color);\n",
              "    fill: var(--disabled-fill-color);\n",
              "    box-shadow: none;\n",
              "  }\n",
              "\n",
              "  .colab-df-spinner {\n",
              "    border: 2px solid var(--fill-color);\n",
              "    border-color: transparent;\n",
              "    border-bottom-color: var(--fill-color);\n",
              "    animation:\n",
              "      spin 1s steps(1) infinite;\n",
              "  }\n",
              "\n",
              "  @keyframes spin {\n",
              "    0% {\n",
              "      border-color: transparent;\n",
              "      border-bottom-color: var(--fill-color);\n",
              "      border-left-color: var(--fill-color);\n",
              "    }\n",
              "    20% {\n",
              "      border-color: transparent;\n",
              "      border-left-color: var(--fill-color);\n",
              "      border-top-color: var(--fill-color);\n",
              "    }\n",
              "    30% {\n",
              "      border-color: transparent;\n",
              "      border-left-color: var(--fill-color);\n",
              "      border-top-color: var(--fill-color);\n",
              "      border-right-color: var(--fill-color);\n",
              "    }\n",
              "    40% {\n",
              "      border-color: transparent;\n",
              "      border-right-color: var(--fill-color);\n",
              "      border-top-color: var(--fill-color);\n",
              "    }\n",
              "    60% {\n",
              "      border-color: transparent;\n",
              "      border-right-color: var(--fill-color);\n",
              "    }\n",
              "    80% {\n",
              "      border-color: transparent;\n",
              "      border-right-color: var(--fill-color);\n",
              "      border-bottom-color: var(--fill-color);\n",
              "    }\n",
              "    90% {\n",
              "      border-color: transparent;\n",
              "      border-bottom-color: var(--fill-color);\n",
              "    }\n",
              "  }\n",
              "</style>\n",
              "\n",
              "  <script>\n",
              "    async function quickchart(key) {\n",
              "      const quickchartButtonEl =\n",
              "        document.querySelector('#' + key + ' button');\n",
              "      quickchartButtonEl.disabled = true;  // To prevent multiple clicks.\n",
              "      quickchartButtonEl.classList.add('colab-df-spinner');\n",
              "      try {\n",
              "        const charts = await google.colab.kernel.invokeFunction(\n",
              "            'suggestCharts', [key], {});\n",
              "      } catch (error) {\n",
              "        console.error('Error during call to suggestCharts:', error);\n",
              "      }\n",
              "      quickchartButtonEl.classList.remove('colab-df-spinner');\n",
              "      quickchartButtonEl.classList.add('colab-df-quickchart-complete');\n",
              "    }\n",
              "    (() => {\n",
              "      let quickchartButtonEl =\n",
              "        document.querySelector('#df-531a2b5c-2f9c-45ea-ad8a-9890a7cd50f7 button');\n",
              "      quickchartButtonEl.style.display =\n",
              "        google.colab.kernel.accessAllowed ? 'block' : 'none';\n",
              "    })();\n",
              "  </script>\n",
              "</div>\n",
              "\n",
              "    </div>\n",
              "  </div>\n"
            ],
            "application/vnd.google.colaboratory.intrinsic+json": {
              "type": "dataframe",
              "variable_name": "association_rules_filtered",
              "summary": "{\n  \"name\": \"association_rules_filtered\",\n  \"rows\": 10500,\n  \"fields\": [\n    {\n      \"column\": \"antecedents\",\n      \"properties\": {\n        \"dtype\": \"number\",\n        \"std\": 53202,\n        \"min\": 10,\n        \"max\": 192083,\n        \"num_unique_values\": 893,\n        \"samples\": [\n          75865,\n          12705,\n          86245\n        ],\n        \"semantic_type\": \"\",\n        \"description\": \"\"\n      }\n    },\n    {\n      \"column\": \"consequents\",\n      \"properties\": {\n        \"dtype\": \"number\",\n        \"std\": 53169,\n        \"min\": 10,\n        \"max\": 192083,\n        \"num_unique_values\": 920,\n        \"samples\": [\n          15872,\n          2080,\n          141557\n        ],\n        \"semantic_type\": \"\",\n        \"description\": \"\"\n      }\n    },\n    {\n      \"column\": \"support\",\n      \"properties\": {\n        \"dtype\": \"number\",\n        \"std\": 0.00010976293745397076,\n        \"min\": 9.928380275016134e-05,\n        \"max\": 0.0025904046717542093,\n        \"num_unique_values\": 102,\n        \"samples\": [\n          0.00017149020475027866,\n          0.0003610320100005867,\n          0.00033846750937555\n        ],\n        \"semantic_type\": \"\",\n        \"description\": \"\"\n      }\n    },\n    {\n      \"column\": \"confidence\",\n      \"properties\": {\n        \"dtype\": \"number\",\n        \"std\": 0.10917328564269174,\n        \"min\": 0.006580915345498056,\n        \"max\": 0.7924528301886792,\n        \"num_unique_values\": 2519,\n        \"samples\": [\n          0.023963133640552994,\n          0.25688073394495414,\n          0.05679012345679012\n        ],\n        \"semantic_type\": \"\",\n        \"description\": \"\"\n      }\n    },\n    {\n      \"column\": \"interest\",\n      \"properties\": {\n        \"dtype\": \"number\",\n        \"std\": 0.10988551089660101,\n        \"min\": 3.90100476984831e-06,\n        \"max\": 0.7921549787804287,\n        \"num_unique_values\": 5688,\n        \"samples\": [\n          0.038200923339365575,\n          0.02787331832895591,\n          0.026840610309910248\n        ],\n        \"semantic_type\": \"\",\n        \"description\": \"\"\n      }\n    }\n  ]\n}"
            }
          },
          "metadata": {},
          "execution_count": 43
        }
      ]
    },
    {
      "cell_type": "code",
      "source": [
        "# Randomly select a book from antecedents and get a recommendation\n",
        "purchased_book_id = np.random.choice(association_rules_filtered['antecedents'])\n",
        "purchased_book_title = book_id_to_title\\\n",
        ".filter(F.col('book_id') == purchased_book_id)\\\n",
        ".select('title')\\\n",
        ".collect()[0]['title']\n",
        "\n",
        "recommended_book_id = association_rules_filtered.loc[\n",
        "    association_rules_filtered['antecedents'] == purchased_book_id, 'consequents'\n",
        "    ].iloc[0]\n",
        "\n",
        "recommended_book_title = book_id_to_title\\\n",
        ".filter(F.col('book_id') == recommended_book_id)\\\n",
        ".select('title')\\\n",
        ".collect()[0]['title']\n",
        "\n",
        "print(f\"Readers who enjoyed '{purchased_book_title}' often also liked '{recommended_book_title}'.\")"
      ],
      "metadata": {
        "colab": {
          "base_uri": "https://localhost:8080/"
        },
        "id": "GJD28URRa9lO",
        "outputId": "bda6c065-fbcf-41d5-8f09-c228420fac99"
      },
      "execution_count": null,
      "outputs": [
        {
          "output_type": "stream",
          "name": "stdout",
          "text": [
            "Readers who enjoyed 'Emma (Summer Classics)' often also liked 'Pride & Prejudice (New Windmill)'.\n"
          ]
        }
      ]
    },
    {
      "cell_type": "code",
      "source": [
        "# Test scalability with different subsets of the dataset\n",
        "if DATA_FRACTION == 1:\n",
        "  print('Performing scalability tests on the full dataset.')\n",
        "\n",
        "  fractions = [0.1, 0.2, 0.4, 0.8, 1.6, 3.2, 6.4]\n",
        "\n",
        "  min_support = 0.001 # Minimum support: ~0.1% of all baskets\n",
        "  k_max = 2\n",
        "\n",
        "  fraction_scalability_results = []\n",
        "\n",
        "  for fraction in fractions:\n",
        "    print(f'Testing fraction: {fraction}')\n",
        "    with_replacement = fraction > 1 # Allow for sampling with replacement for fractions greater than 1\n",
        "    subset = baskets.sample(with_replacement, fraction, 42)\n",
        "    fraction_result = son(subset, min_support, k_max)\n",
        "    fraction_result['n_baskets'] = subset.count()\n",
        "    fraction_scalability_results.append(fraction_result)\n",
        "\n",
        "  # Plot the results\n",
        "  n_baskets_values = [r['n_baskets'] for r in fraction_scalability_results]\n",
        "  execution_times = [r['execution_time'] for r in fraction_scalability_results]\n",
        "\n",
        "  plt.figure(figsize=(8, 5))\n",
        "  plt.plot(n_baskets_values, execution_times, 'b')\n",
        "  plt.xlabel('Number of Baskets')\n",
        "  plt.ylabel('Execution Time (seconds)', color='b')\n",
        "  plt.tick_params(axis='y', labelcolor='b')\n",
        "\n",
        "  plt.xscale('log') # Use log scale for better readability\n",
        "\n",
        "  n_baskets_labels = [n for n in n_baskets_values]\n",
        "  plt.xticks(n_baskets_values, n_baskets_labels, rotation=90)\n",
        "\n",
        "  plt.grid(True, linestyle='--', alpha=0.7)\n",
        "  plt.show()\n",
        "\n",
        "else:\n",
        "  print(f'Not performing scalability tests due to DATA_FRACTION being {DATA_FRACTION}.')"
      ],
      "metadata": {
        "colab": {
          "base_uri": "https://localhost:8080/",
          "height": 652
        },
        "id": "LyxO7btNdcFY",
        "outputId": "552ec944-d253-4b93-cfea-69398df1791d"
      },
      "execution_count": null,
      "outputs": [
        {
          "output_type": "stream",
          "name": "stdout",
          "text": [
            "Performing scalability tests on the full dataset.\n",
            "Testing fraction: 0.1\n",
            "Testing fraction: 0.2\n",
            "Testing fraction: 0.4\n",
            "Testing fraction: 0.8\n",
            "Testing fraction: 1.6\n",
            "Testing fraction: 3.2\n",
            "Testing fraction: 6.4\n"
          ]
        },
        {
          "output_type": "display_data",
          "data": {
            "text/plain": [
              "<Figure size 800x500 with 1 Axes>"
            ],
            "image/png": "[encoded data removed]"
          },
          "metadata": {}
        }
      ]
    },
    {
      "cell_type": "code",
      "source": [
        "if DATA_FRACTION == 1:\n",
        "  prev_execution_time = None\n",
        "  prev_n_baskets = None\n",
        "\n",
        "  for r in fraction_scalability_results:\n",
        "    n_baskets = r['n_baskets']\n",
        "    n_frequent_itemsets = r['n_frequent_itemsets']\n",
        "    execution_time = r['execution_time']\n",
        "\n",
        "    time_ratio = execution_time / prev_execution_time if prev_execution_time else None\n",
        "    basket_ratio = n_baskets / prev_n_baskets if prev_n_baskets else None\n",
        "    scaling_ratio = time_ratio / basket_ratio if time_ratio is not None and basket_ratio is not None else None\n",
        "\n",
        "    if time_ratio is not None and basket_ratio is not None and scaling_ratio is not None:\n",
        "      print(f'Number of Baskets: {n_baskets} -> Frequent Itemsets: {n_frequent_itemsets} '\n",
        "            f'(Baskets Ratio: {basket_ratio:.2f}x), Execution Time: {execution_time:.2f} '\n",
        "            f'(Time Ratio: {time_ratio:.2f}x), Scaling Ratio: {scaling_ratio:.2f}')\n",
        "    else:\n",
        "      print(f'Number of Baskets: {n_baskets} -> Frequent Itemsets: {n_frequent_itemsets}, '\n",
        "            f'Execution Time: {execution_time:.2f}')\n",
        "\n",
        "    prev_execution_time = execution_time\n",
        "    prev_n_baskets = n_baskets"
      ],
      "metadata": {
        "colab": {
          "base_uri": "https://localhost:8080/"
        },
        "id": "E0xDnkBf9Tcw",
        "outputId": "35ad16da-d474-4532-a4af-74aa4e115d94"
      },
      "execution_count": null,
      "outputs": [
        {
          "output_type": "stream",
          "name": "stdout",
          "text": [
            "Number of Baskets: 22143 -> Frequent Itemsets: 1586, Execution Time: 2.56\n",
            "Number of Baskets: 44506 -> Frequent Itemsets: 1530 (Baskets Ratio: 2.01x), Execution Time: 4.91 (Time Ratio: 1.92x), Scaling Ratio: 0.95\n",
            "Number of Baskets: 88514 -> Frequent Itemsets: 1582 (Baskets Ratio: 1.99x), Execution Time: 11.21 (Time Ratio: 2.28x), Scaling Ratio: 1.15\n",
            "Number of Baskets: 177292 -> Frequent Itemsets: 1516 (Baskets Ratio: 2.00x), Execution Time: 16.37 (Time Ratio: 1.46x), Scaling Ratio: 0.73\n",
            "Number of Baskets: 355185 -> Frequent Itemsets: 1533 (Baskets Ratio: 2.00x), Execution Time: 23.62 (Time Ratio: 1.44x), Scaling Ratio: 0.72\n",
            "Number of Baskets: 709750 -> Frequent Itemsets: 1525 (Baskets Ratio: 2.00x), Execution Time: 44.68 (Time Ratio: 1.89x), Scaling Ratio: 0.95\n",
            "Number of Baskets: 1419286 -> Frequent Itemsets: 1473 (Baskets Ratio: 2.00x), Execution Time: 70.26 (Time Ratio: 1.57x), Scaling Ratio: 0.79\n"
          ]
        }
      ]
    },
    {
      "cell_type": "code",
      "source": [
        "# Test scalability with different minimum support thresholds\n",
        "if DATA_FRACTION == 1:\n",
        "  print('Performing scalability tests on the full dataset.')\n",
        "\n",
        "  min_support_values = [0.01, 0.005, 0.0025, 0.00125, 0.000625, 0.0003125, 0.00015625, 0.000078125]\n",
        "  k_max = 2\n",
        "\n",
        "  support_scalability_results = []\n",
        "\n",
        "  for min_support in min_support_values:\n",
        "    print(f'Testing minimum support threshold: {min_support}')\n",
        "    support_result = son(baskets, min_support, k_max)\n",
        "    support_scalability_results.append(support_result)\n",
        "\n",
        "  # Plot the results\n",
        "  n_frequent_itemsets = [r['n_frequent_itemsets'] for r in support_scalability_results]\n",
        "  execution_times = [r['execution_time'] for r in support_scalability_results]\n",
        "\n",
        "  fig, ax1 = plt.subplots(figsize=(8, 5))\n",
        "\n",
        "  # Plot number of frequent itemsets (Left Y-axis)\n",
        "  ax1.plot(min_support_values, n_frequent_itemsets, 'b')\n",
        "  ax1.set_xlabel('Minimum Support Threshold (min_support)')\n",
        "  ax1.set_ylabel('Number of Frequent Itemsets', color='b')\n",
        "  ax1.tick_params(axis='y', labelcolor='b')\n",
        "\n",
        "  # Add second Y-axis for execution time\n",
        "  ax2 = ax1.twinx()\n",
        "  ax2.plot(min_support_values, execution_times, 'r')\n",
        "  ax2.set_ylabel('Execution Time (seconds)', color='r')\n",
        "  ax2.tick_params(axis='y', labelcolor='r')\n",
        "\n",
        "  ax1.set_xscale('log') # Use log scale for better readability\n",
        "  ax1.invert_xaxis() # Invert values on X-axis (i.e., decreasing support threshold)\n",
        "\n",
        "  min_support_labels = [str(s) if i < 7 else format(s, '.9f') for i, s in enumerate(min_support_values)]\n",
        "  ax1.set_xticks(min_support_values, min_support_labels, rotation=90)\n",
        "  ax1.grid(True, linestyle='--', alpha=0.7)\n",
        "\n",
        "  fig.tight_layout()\n",
        "  plt.show()\n",
        "\n",
        "else:\n",
        "  print(f'Not performing scalability tests due to DATA_FRACTION being {DATA_FRACTION}.')"
      ],
      "metadata": {
        "colab": {
          "base_uri": "https://localhost:8080/",
          "height": 663
        },
        "id": "lcN5q7SMebTH",
        "outputId": "87b48064-ea71-4741-daea-5588a0d366fb"
      },
      "execution_count": null,
      "outputs": [
        {
          "output_type": "stream",
          "name": "stdout",
          "text": [
            "Performing scalability tests on the full dataset.\n",
            "Testing minimum support threshold: 0.01\n",
            "Testing minimum support threshold: 0.005\n",
            "Testing minimum support threshold: 0.0025\n",
            "Testing minimum support threshold: 0.00125\n",
            "Testing minimum support threshold: 0.000625\n",
            "Testing minimum support threshold: 0.0003125\n",
            "Testing minimum support threshold: 0.00015625\n",
            "Testing minimum support threshold: 7.8125e-05\n"
          ]
        },
        {
          "output_type": "display_data",
          "data": {
            "text/plain": [
              "<Figure size 800x500 with 2 Axes>"
            ],
            "image/png": "[encoded data removed]"
          },
          "metadata": {}
        }
      ]
    },
    {
      "cell_type": "code",
      "source": [
        "if DATA_FRACTION == 1:\n",
        "  prev_execution_time = None\n",
        "  prev_n_frequent_itemsets = None\n",
        "\n",
        "  for r in support_scalability_results:\n",
        "    min_support = r['min_support']\n",
        "    n_frequent_itemsets = r['n_frequent_itemsets']\n",
        "    execution_time = r['execution_time']\n",
        "\n",
        "    time_ratio = execution_time / prev_execution_time if prev_execution_time else None\n",
        "    itemset_ratio = n_frequent_itemsets / prev_n_frequent_itemsets if prev_n_frequent_itemsets else None\n",
        "    scaling_ratio = time_ratio / itemset_ratio if time_ratio is not None and itemset_ratio is not None else None\n",
        "\n",
        "    if time_ratio is not None and itemset_ratio is not None and scaling_ratio is not None:\n",
        "      print(f'Minimum Support Threshold: {min_support} -> Frequent Itemsets: {n_frequent_itemsets} '\n",
        "            f'(Ratio: {itemset_ratio:.2f}x), Execution Time: {execution_time:.2f} '\n",
        "            f'(Ratio: {time_ratio:.2f}x), Scaling Ratio: {scaling_ratio:.2f}')\n",
        "    else:\n",
        "      print(f'Minimum Support Threshold: {min_support} -> Frequent Itemsets: {n_frequent_itemsets}, '\n",
        "            f'Execution Time: {execution_time:.2f}')\n",
        "\n",
        "    prev_execution_time = execution_time\n",
        "    prev_n_frequent_itemsets = n_frequent_itemsets"
      ],
      "metadata": {
        "id": "wyhChOjyEqWc",
        "colab": {
          "base_uri": "https://localhost:8080/"
        },
        "outputId": "4231dad4-975e-4640-a983-388465a6fb3b"
      },
      "execution_count": null,
      "outputs": [
        {
          "output_type": "stream",
          "name": "stdout",
          "text": [
            "Minimum Support Threshold: 0.01 -> Frequent Itemsets: 15, Execution Time: 1.50\n",
            "Minimum Support Threshold: 0.005 -> Frequent Itemsets: 82 (Ratio: 5.47x), Execution Time: 2.40 (Ratio: 1.60x), Scaling Ratio: 0.29\n",
            "Minimum Support Threshold: 0.0025 -> Frequent Itemsets: 410 (Ratio: 5.00x), Execution Time: 7.48 (Ratio: 3.11x), Scaling Ratio: 0.62\n",
            "Minimum Support Threshold: 0.00125 -> Frequent Itemsets: 1226 (Ratio: 2.99x), Execution Time: 15.02 (Ratio: 2.01x), Scaling Ratio: 0.67\n",
            "Minimum Support Threshold: 0.000625 -> Frequent Itemsets: 2407 (Ratio: 1.96x), Execution Time: 28.43 (Ratio: 1.89x), Scaling Ratio: 0.96\n",
            "Minimum Support Threshold: 0.0003125 -> Frequent Itemsets: 4572 (Ratio: 1.90x), Execution Time: 57.40 (Ratio: 2.02x), Scaling Ratio: 1.06\n",
            "Minimum Support Threshold: 0.00015625 -> Frequent Itemsets: 9504 (Ratio: 2.08x), Execution Time: 121.76 (Ratio: 2.12x), Scaling Ratio: 1.02\n",
            "Minimum Support Threshold: 7.8125e-05 -> Frequent Itemsets: 25673 (Ratio: 2.70x), Execution Time: 459.17 (Ratio: 3.77x), Scaling Ratio: 1.40\n"
          ]
        }
      ]
    },
    {
      "cell_type": "code",
      "source": [
        "# Test scalability with different k_max values\n",
        "if DATA_FRACTION == 1:\n",
        "  print('Performing scalability tests on the full dataset.')\n",
        "\n",
        "  min_support = 0.001 # Minimum support: ~0.1% of all baskets\n",
        "  k_max_values = [2, 3, 4, 5]\n",
        "\n",
        "  k_max_scalability_results = []\n",
        "\n",
        "  for k_max in k_max_values:\n",
        "    print(f'Testing k_max: {k_max}')\n",
        "    k_max_result = son(baskets, min_support, k_max)\n",
        "    k_max_scalability_results.append(k_max_result)\n",
        "\n",
        "  # Plot the results\n",
        "  k_max_values = [r['k_max'] for r in k_max_scalability_results]\n",
        "  n_frequent_itemsets = [r['n_frequent_itemsets'] for r in k_max_scalability_results]\n",
        "  execution_times = [r['execution_time'] for r in k_max_scalability_results]\n",
        "\n",
        "  fig, ax1 = plt.subplots(figsize=(8, 5))\n",
        "\n",
        "  # Plot number of frequent itemsets (Left Y-axis)\n",
        "  ax1.plot(k_max_values, n_frequent_itemsets, 'b')\n",
        "  ax1.set_xlabel('Maximum Itemset Size (k_max)')\n",
        "  ax1.set_ylabel('Number of Frequent Itemsets', color='b')\n",
        "  ax1.tick_params(axis='y', labelcolor='b')\n",
        "\n",
        "  # Add second Y-axis for execution time\n",
        "  ax2 = ax1.twinx()\n",
        "  ax2.plot(k_max_values, execution_times, 'r')\n",
        "  ax2.set_ylabel('Execution Time (seconds)', color='r')\n",
        "  ax2.tick_params(axis='y', labelcolor='r')\n",
        "\n",
        "  # Improve readability\n",
        "  ax1.set_xticks(k_max_values)\n",
        "  ax1.grid(True, linestyle='--', alpha=0.7)\n",
        "\n",
        "  fig.tight_layout()\n",
        "  plt.show()\n",
        "\n",
        "else:\n",
        "  print(f'Not performing scalability tests due to DATA_FRACTION being {DATA_FRACTION}.')"
      ],
      "metadata": {
        "id": "fPym7Vc8jPeN",
        "colab": {
          "base_uri": "https://localhost:8080/",
          "height": 593
        },
        "outputId": "e8941a6e-15f6-4b05-dcf4-702dac43e0e5"
      },
      "execution_count": null,
      "outputs": [
        {
          "output_type": "stream",
          "name": "stdout",
          "text": [
            "Performing scalability tests on the full dataset.\n",
            "Testing k_max: 2\n",
            "Testing k_max: 3\n",
            "Testing k_max: 4\n",
            "Testing k_max: 5\n"
          ]
        },
        {
          "output_type": "display_data",
          "data": {
            "text/plain": [
              "<Figure size 800x500 with 2 Axes>"
            ],
            "image/png": "[encoded data removed]"
          },
          "metadata": {}
        }
      ]
    },
    {
      "cell_type": "code",
      "source": [
        "if DATA_FRACTION == 1:\n",
        "  prev_execution_time = None\n",
        "  prev_n_frequent_itemsets = None\n",
        "\n",
        "  for r in k_max_scalability_results:\n",
        "    k_max = r['k_max']\n",
        "    n_frequent_itemsets = r['n_frequent_itemsets']\n",
        "    execution_time = r['execution_time']\n",
        "\n",
        "    time_ratio = execution_time / prev_execution_time if prev_execution_time else None\n",
        "    itemset_ratio = n_frequent_itemsets / prev_n_frequent_itemsets if prev_n_frequent_itemsets else None\n",
        "    scaling_ratio = time_ratio / itemset_ratio if time_ratio is not None and itemset_ratio is not None else None\n",
        "\n",
        "    if time_ratio is not None and itemset_ratio is not None and scaling_ratio is not None:\n",
        "      print(f'k_max: {k_max} -> Frequent Itemsets: {n_frequent_itemsets} '\n",
        "            f'(Ratio: {itemset_ratio:.2f}x), Execution Time: {execution_time:.2f} '\n",
        "            f'(Ratio: {time_ratio:.2f}x), Scaling Ratio: {scaling_ratio:.2f}')\n",
        "    else:\n",
        "      print(f'k_max: {k_max} -> Frequent Itemsets: {n_frequent_itemsets}, '\n",
        "            f'Execution Time: {execution_time:.2f}')\n",
        "\n",
        "    prev_execution_time = execution_time\n",
        "    prev_n_frequent_itemsets = n_frequent_itemsets"
      ],
      "metadata": {
        "colab": {
          "base_uri": "https://localhost:8080/"
        },
        "id": "2N7eG7gatnQk",
        "outputId": "85f23073-e41e-4459-afce-cae530282644"
      },
      "execution_count": null,
      "outputs": [
        {
          "output_type": "stream",
          "name": "stdout",
          "text": [
            "k_max: 2 -> Frequent Itemsets: 1464, Execution Time: 18.53\n",
            "k_max: 3 -> Frequent Itemsets: 2824 (Ratio: 1.93x), Execution Time: 39.52 (Ratio: 2.13x), Scaling Ratio: 1.11\n",
            "k_max: 4 -> Frequent Itemsets: 5203 (Ratio: 1.84x), Execution Time: 91.14 (Ratio: 2.31x), Scaling Ratio: 1.25\n",
            "k_max: 5 -> Frequent Itemsets: 8829 (Ratio: 1.70x), Execution Time: 227.47 (Ratio: 2.50x), Scaling Ratio: 1.47\n"
          ]
        }
      ]
    },
    {
      "cell_type": "code",
      "source": [],
      "metadata": {
        "id": "SuTXAPpit5L-"
      },
      "execution_count": null,
      "outputs": []
    }
  ]
}